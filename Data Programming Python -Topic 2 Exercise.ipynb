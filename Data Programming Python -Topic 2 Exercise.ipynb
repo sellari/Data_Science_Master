{
 "cells": [
  {
   "cell_type": "code",
   "execution_count": 57,
   "metadata": {},
   "outputs": [],
   "source": [
    "#Import libraries \n",
    "import os\n",
    "import pandas as pd"
   ]
  },
  {
   "cell_type": "markdown",
   "metadata": {},
   "source": [
    "**Error checking: loading a file if does not exist**"
   ]
  },
  {
   "cell_type": "code",
   "execution_count": 58,
   "metadata": {},
   "outputs": [],
   "source": [
    "#Loading a file if it exists\n",
    "def load_data(file_path):\n",
    "    if os.path.exists(file_path):\n",
    "        df = pd.read_csv(file_path)\n",
    "        print(f\"File '{file_path}' loaded successfully.\")\n",
    "        return df\n",
    "    else:\n",
    "        print(f\"File '{file_path}' does not exist.\")\n",
    "        return None"
   ]
  },
  {
   "cell_type": "code",
   "execution_count": 59,
   "metadata": {},
   "outputs": [
    {
     "name": "stdout",
     "output_type": "stream",
     "text": [
      "File 'Flight_data.csv' loaded successfully.\n",
      "   Unnamed: 0   airline   flight source_city departure_time stops  \\\n",
      "0           0  SpiceJet  SG-8709       Delhi        Evening  zero   \n",
      "1           1  SpiceJet  SG-8157       Delhi  Early_Morning  zero   \n",
      "2           2   AirAsia   I5-764       Delhi  Early_Morning  zero   \n",
      "3           3   Vistara   UK-995       Delhi        Morning  zero   \n",
      "4           4   Vistara   UK-963       Delhi        Morning  zero   \n",
      "\n",
      "    arrival_time destination_city    class  duration  days_left  price  \n",
      "0          Night           Mumbai  Economy      2.17          1   5953  \n",
      "1        Morning           Mumbai  Economy      2.33          1   5953  \n",
      "2  Early_Morning           Mumbai  Economy      2.17          1   5956  \n",
      "3      Afternoon           Mumbai  Economy      2.25          1   5955  \n",
      "4        Morning           Mumbai  Economy      2.33          1   5955  \n"
     ]
    }
   ],
   "source": [
    "# Applied usage to exercise dataset\n",
    "file_path = 'Flight_data.csv'  \n",
    "loaded_data = load_data(file_path)\n",
    "\n",
    "if loaded_data is not None:\n",
    "    print(loaded_data.head(5))"
   ]
  },
  {
   "cell_type": "markdown",
   "metadata": {},
   "source": [
    "**For the same direct flight calculate the longest/shortest/mean duration and price**"
   ]
  },
  {
   "cell_type": "code",
   "execution_count": 18,
   "metadata": {},
   "outputs": [],
   "source": [
    "#Filter for direct flights(stops == zero)\n",
    "direct_flights = df[df['stops']== 'zero']"
   ]
  },
  {
   "cell_type": "code",
   "execution_count": 21,
   "metadata": {},
   "outputs": [],
   "source": [
    "#Group by source and destination + calculate the min/max/mean duration\n",
    "flight_stats_duration = direct_flights.groupby(['source_city', 'destination_city'])['duration'].agg(['min', 'max', 'mean'])"
   ]
  },
  {
   "cell_type": "code",
   "execution_count": 22,
   "metadata": {},
   "outputs": [
    {
     "name": "stdout",
     "output_type": "stream",
     "text": [
      "Flight Duration Statistics for Flights:\n",
      "                               min   max      mean\n",
      "source_city destination_city                      \n",
      "Bangalore   Chennai           0.83  1.17  1.044125\n",
      "            Delhi             2.58  3.00  2.773808\n",
      "            Hyderabad         1.00  1.67  1.222717\n",
      "            Kolkata           2.33  3.17  2.528473\n",
      "            Mumbai            1.33  2.00  1.792557\n",
      "Chennai     Bangalore         0.83  1.50  1.138333\n",
      "            Delhi             2.42  3.08  2.786882\n",
      "            Hyderabad         1.00  1.42  1.229007\n",
      "            Kolkata           2.00  2.58  2.391670\n",
      "            Mumbai            1.75  2.25  1.979359\n",
      "Delhi       Bangalore         2.50  3.17  2.783256\n",
      "            Chennai           2.75  3.00  2.848963\n",
      "            Hyderabad         1.92  2.42  2.222434\n",
      "            Kolkata           2.08  2.67  2.195788\n",
      "            Mumbai            2.00  2.50  2.213791\n",
      "Hyderabad   Bangalore         0.92  1.83  1.238432\n",
      "            Chennai           1.17  1.50  1.287792\n",
      "            Delhi             2.00  2.58  2.263544\n",
      "            Kolkata           1.75  2.25  2.041172\n",
      "            Mumbai            1.25  1.67  1.530212\n",
      "Kolkata     Bangalore         2.42  3.00  2.690802\n",
      "            Chennai           2.25  2.67  2.382144\n",
      "            Delhi             2.25  2.67  2.454752\n",
      "            Hyderabad         2.08  2.33  2.213538\n",
      "            Mumbai            2.58  3.58  2.847503\n",
      "Mumbai      Bangalore         1.58  2.08  1.740825\n",
      "            Chennai           1.83  2.08  1.990201\n",
      "            Delhi             1.83  2.50  2.185311\n",
      "            Hyderabad         1.17  1.67  1.440362\n",
      "            Kolkata           2.33  2.83  2.644094\n"
     ]
    }
   ],
   "source": [
    "#Display the results\n",
    "print(\"Flight Duration Statistics for Flights:\")\n",
    "print(flight_stats_duration)"
   ]
  },
  {
   "cell_type": "code",
   "execution_count": 24,
   "metadata": {},
   "outputs": [],
   "source": [
    "#Group by source and destination + calculate the min/max/mean price\n",
    "flight_stats_price = direct_flights.groupby(['source_city', 'destination_city'])['price'].agg(['min', 'max', 'mean'])"
   ]
  },
  {
   "cell_type": "code",
   "execution_count": 25,
   "metadata": {},
   "outputs": [
    {
     "name": "stdout",
     "output_type": "stream",
     "text": [
      "Flight Price Statistics for Flights:\n",
      "                               min    max          mean\n",
      "source_city destination_city                           \n",
      "Bangalore   Chennai           1603  12136   2329.608333\n",
      "            Delhi             4071  59573  13215.595206\n",
      "            Hyderabad         1714  15360   3041.762557\n",
      "            Kolkata           3393  25000   4775.904192\n",
      "            Mumbai            2150  40024   7519.493578\n",
      "Chennai     Bangalore         1443  12000   2101.504444\n",
      "            Delhi             2051  56878  12463.246531\n",
      "            Hyderabad         1105  15000   2660.925094\n",
      "            Kolkata           2359  25600   5792.919662\n",
      "            Mumbai            1830  36864   9015.339744\n",
      "Delhi       Bangalore         4007  59509  13130.285064\n",
      "            Chennai           2049  56950  11628.027911\n",
      "            Hyderabad         2022  38470   9775.861687\n",
      "            Kolkata           2482  59224  11156.082863\n",
      "            Mumbai            2281  58216  11136.777284\n",
      "Hyderabad   Bangalore         1776  15474   3076.138272\n",
      "            Chennai           1543  15250   2677.586792\n",
      "            Delhi             2200  38648  10371.478693\n",
      "            Kolkata           2057  25600   6026.870707\n",
      "            Mumbai            2301  26026   7574.855629\n",
      "Kolkata     Bangalore         3860  44193   6277.475827\n",
      "            Chennai           2966  26206   6814.096280\n",
      "            Delhi             3016  55278  11354.091925\n",
      "            Hyderabad         2436  25956   6135.819780\n",
      "            Mumbai            3381  49006  10973.624339\n",
      "Mumbai      Bangalore         2074  39948   7369.560513\n",
      "            Chennai           1890  36983   8975.697802\n",
      "            Delhi             2339  55404  10969.784100\n",
      "            Hyderabad         2111  21479   7232.047865\n",
      "            Kolkata           2835  57084  10672.198285\n"
     ]
    }
   ],
   "source": [
    "#Display the results\n",
    "print(\"Flight Price Statistics for Flights:\")\n",
    "print(flight_stats_price)"
   ]
  },
  {
   "cell_type": "markdown",
   "metadata": {},
   "source": [
    "**Create a graph**"
   ]
  },
  {
   "cell_type": "code",
   "execution_count": null,
   "metadata": {},
   "outputs": [],
   "source": []
  }
 ],
 "metadata": {
  "kernelspec": {
   "display_name": "Python 3",
   "language": "python",
   "name": "python3"
  },
  "language_info": {
   "codemirror_mode": {
    "name": "ipython",
    "version": 3
   },
   "file_extension": ".py",
   "mimetype": "text/x-python",
   "name": "python",
   "nbconvert_exporter": "python",
   "pygments_lexer": "ipython3",
   "version": "3.7.3"
  }
 },
 "nbformat": 4,
 "nbformat_minor": 2
}
